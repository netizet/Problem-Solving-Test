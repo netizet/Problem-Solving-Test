{
 "cells": [
  {
   "cell_type": "code",
   "execution_count": 3,
   "id": "2a00c1f7",
   "metadata": {},
   "outputs": [],
   "source": [
    "import pandas as pd\n",
    "import matplotlib.pyplot as plt\n",
    "import numpy as np\n",
    "import statistics\n",
    "import collections\n",
    "import seaborn as sns"
   ]
  },
  {
   "cell_type": "code",
   "execution_count": 4,
   "id": "ec94bd9d",
   "metadata": {},
   "outputs": [],
   "source": [
    "df3=pd.read_csv(\"/Users/z/Documents/df3_problem solving test.csv\")"
   ]
  },
  {
   "cell_type": "code",
   "execution_count": 5,
   "id": "793862cb",
   "metadata": {},
   "outputs": [
    {
     "data": {
      "text/html": [
       "<div>\n",
       "<style scoped>\n",
       "    .dataframe tbody tr th:only-of-type {\n",
       "        vertical-align: middle;\n",
       "    }\n",
       "\n",
       "    .dataframe tbody tr th {\n",
       "        vertical-align: top;\n",
       "    }\n",
       "\n",
       "    .dataframe thead th {\n",
       "        text-align: right;\n",
       "    }\n",
       "</style>\n",
       "<table border=\"1\" class=\"dataframe\">\n",
       "  <thead>\n",
       "    <tr style=\"text-align: right;\">\n",
       "      <th></th>\n",
       "      <th>Unnamed: 0</th>\n",
       "      <th>user_id</th>\n",
       "      <th>registration_import_datetime</th>\n",
       "      <th>user_gender</th>\n",
       "      <th>user_age</th>\n",
       "      <th>user_occupation</th>\n",
       "      <th>user_income_range</th>\n",
       "      <th>referral_code_used</th>\n",
       "      <th>user_income_source</th>\n",
       "      <th>date</th>\n",
       "      <th>...</th>\n",
       "      <th>profit/loss_Pasar_Uang</th>\n",
       "      <th>buy/sell_Pasar_Uang</th>\n",
       "      <th>profit/loss_Pendapatan_Tetap</th>\n",
       "      <th>buy/sell_Pendapatan_Tetap</th>\n",
       "      <th>profit/loss_Campuran</th>\n",
       "      <th>buy/sell_Campuran</th>\n",
       "      <th>profit/invested_Saham</th>\n",
       "      <th>profit/invested_Pasar_Uang</th>\n",
       "      <th>profit/invested_Pendepatan_Tetap</th>\n",
       "      <th>profit/invested_Campuran</th>\n",
       "    </tr>\n",
       "  </thead>\n",
       "  <tbody>\n",
       "    <tr>\n",
       "      <th>0</th>\n",
       "      <td>0</td>\n",
       "      <td>162882</td>\n",
       "      <td>2021-09-17 14:10:44</td>\n",
       "      <td>Female</td>\n",
       "      <td>51</td>\n",
       "      <td>Swasta</td>\n",
       "      <td>&gt; Rp 500 Juta - 1 Miliar</td>\n",
       "      <td>don't use referrals</td>\n",
       "      <td>Gaji</td>\n",
       "      <td>2021-10-08 00:00:00</td>\n",
       "      <td>...</td>\n",
       "      <td>0.0</td>\n",
       "      <td>0.0</td>\n",
       "      <td>0.0</td>\n",
       "      <td>0.0</td>\n",
       "      <td>0.0</td>\n",
       "      <td>0.0</td>\n",
       "      <td>0.778300</td>\n",
       "      <td>0.000000</td>\n",
       "      <td>0.0000</td>\n",
       "      <td>0.0</td>\n",
       "    </tr>\n",
       "    <tr>\n",
       "      <th>1</th>\n",
       "      <td>1</td>\n",
       "      <td>162882</td>\n",
       "      <td>2021-09-17 14:10:44</td>\n",
       "      <td>Female</td>\n",
       "      <td>51</td>\n",
       "      <td>Swasta</td>\n",
       "      <td>&gt; Rp 500 Juta - 1 Miliar</td>\n",
       "      <td>don't use referrals</td>\n",
       "      <td>Gaji</td>\n",
       "      <td>2021-10-11 00:00:00</td>\n",
       "      <td>...</td>\n",
       "      <td>0.0</td>\n",
       "      <td>0.0</td>\n",
       "      <td>299.0</td>\n",
       "      <td>500000.0</td>\n",
       "      <td>0.0</td>\n",
       "      <td>0.0</td>\n",
       "      <td>0.722600</td>\n",
       "      <td>0.000000</td>\n",
       "      <td>0.0598</td>\n",
       "      <td>0.0</td>\n",
       "    </tr>\n",
       "    <tr>\n",
       "      <th>2</th>\n",
       "      <td>2</td>\n",
       "      <td>162882</td>\n",
       "      <td>2021-09-17 14:10:44</td>\n",
       "      <td>Female</td>\n",
       "      <td>51</td>\n",
       "      <td>Swasta</td>\n",
       "      <td>&gt; Rp 500 Juta - 1 Miliar</td>\n",
       "      <td>don't use referrals</td>\n",
       "      <td>Gaji</td>\n",
       "      <td>2021-10-12 00:00:00</td>\n",
       "      <td>...</td>\n",
       "      <td>0.0</td>\n",
       "      <td>0.0</td>\n",
       "      <td>299.0</td>\n",
       "      <td>0.0</td>\n",
       "      <td>0.0</td>\n",
       "      <td>0.0</td>\n",
       "      <td>1.260600</td>\n",
       "      <td>0.000000</td>\n",
       "      <td>0.0598</td>\n",
       "      <td>0.0</td>\n",
       "    </tr>\n",
       "    <tr>\n",
       "      <th>3</th>\n",
       "      <td>3</td>\n",
       "      <td>162882</td>\n",
       "      <td>2021-09-17 14:10:44</td>\n",
       "      <td>Female</td>\n",
       "      <td>51</td>\n",
       "      <td>Swasta</td>\n",
       "      <td>&gt; Rp 500 Juta - 1 Miliar</td>\n",
       "      <td>don't use referrals</td>\n",
       "      <td>Gaji</td>\n",
       "      <td>2021-10-13 00:00:00</td>\n",
       "      <td>...</td>\n",
       "      <td>0.0</td>\n",
       "      <td>0.0</td>\n",
       "      <td>542.0</td>\n",
       "      <td>0.0</td>\n",
       "      <td>0.0</td>\n",
       "      <td>0.0</td>\n",
       "      <td>1.400800</td>\n",
       "      <td>0.000000</td>\n",
       "      <td>0.1084</td>\n",
       "      <td>0.0</td>\n",
       "    </tr>\n",
       "    <tr>\n",
       "      <th>4</th>\n",
       "      <td>4</td>\n",
       "      <td>162882</td>\n",
       "      <td>2021-09-17 14:10:44</td>\n",
       "      <td>Female</td>\n",
       "      <td>51</td>\n",
       "      <td>Swasta</td>\n",
       "      <td>&gt; Rp 500 Juta - 1 Miliar</td>\n",
       "      <td>don't use referrals</td>\n",
       "      <td>Gaji</td>\n",
       "      <td>2021-10-14 00:00:00</td>\n",
       "      <td>...</td>\n",
       "      <td>0.0</td>\n",
       "      <td>0.0</td>\n",
       "      <td>2093.0</td>\n",
       "      <td>500000.0</td>\n",
       "      <td>0.0</td>\n",
       "      <td>0.0</td>\n",
       "      <td>2.212333</td>\n",
       "      <td>0.000000</td>\n",
       "      <td>0.2093</td>\n",
       "      <td>0.0</td>\n",
       "    </tr>\n",
       "    <tr>\n",
       "      <th>...</th>\n",
       "      <td>...</td>\n",
       "      <td>...</td>\n",
       "      <td>...</td>\n",
       "      <td>...</td>\n",
       "      <td>...</td>\n",
       "      <td>...</td>\n",
       "      <td>...</td>\n",
       "      <td>...</td>\n",
       "      <td>...</td>\n",
       "      <td>...</td>\n",
       "      <td>...</td>\n",
       "      <td>...</td>\n",
       "      <td>...</td>\n",
       "      <td>...</td>\n",
       "      <td>...</td>\n",
       "      <td>...</td>\n",
       "      <td>...</td>\n",
       "      <td>...</td>\n",
       "      <td>...</td>\n",
       "      <td>...</td>\n",
       "      <td>...</td>\n",
       "    </tr>\n",
       "    <tr>\n",
       "      <th>401234</th>\n",
       "      <td>401234</td>\n",
       "      <td>4396739</td>\n",
       "      <td>2021-10-21 13:42:20</td>\n",
       "      <td>Male</td>\n",
       "      <td>49</td>\n",
       "      <td>Swasta</td>\n",
       "      <td>&gt; Rp 100 Juta - 500 Juta</td>\n",
       "      <td>don't use referrals</td>\n",
       "      <td>Gaji</td>\n",
       "      <td>2021-10-28 00:00:00</td>\n",
       "      <td>...</td>\n",
       "      <td>7.0</td>\n",
       "      <td>0.0</td>\n",
       "      <td>61.0</td>\n",
       "      <td>0.0</td>\n",
       "      <td>0.0</td>\n",
       "      <td>0.0</td>\n",
       "      <td>-1.484000</td>\n",
       "      <td>0.070000</td>\n",
       "      <td>0.1525</td>\n",
       "      <td>0.0</td>\n",
       "    </tr>\n",
       "    <tr>\n",
       "      <th>401235</th>\n",
       "      <td>401235</td>\n",
       "      <td>4396739</td>\n",
       "      <td>2021-10-21 13:42:20</td>\n",
       "      <td>Male</td>\n",
       "      <td>49</td>\n",
       "      <td>Swasta</td>\n",
       "      <td>&gt; Rp 100 Juta - 500 Juta</td>\n",
       "      <td>don't use referrals</td>\n",
       "      <td>Gaji</td>\n",
       "      <td>2021-10-29 00:00:00</td>\n",
       "      <td>...</td>\n",
       "      <td>7.0</td>\n",
       "      <td>0.0</td>\n",
       "      <td>38.0</td>\n",
       "      <td>0.0</td>\n",
       "      <td>0.0</td>\n",
       "      <td>0.0</td>\n",
       "      <td>-0.556000</td>\n",
       "      <td>0.070000</td>\n",
       "      <td>0.0950</td>\n",
       "      <td>0.0</td>\n",
       "    </tr>\n",
       "    <tr>\n",
       "      <th>401236</th>\n",
       "      <td>401236</td>\n",
       "      <td>4401986</td>\n",
       "      <td>2021-10-22 00:55:26</td>\n",
       "      <td>Female</td>\n",
       "      <td>49</td>\n",
       "      <td>IRT</td>\n",
       "      <td>&gt; Rp 100 Juta - 500 Juta</td>\n",
       "      <td>used referral</td>\n",
       "      <td>Keuntungan Bisnis</td>\n",
       "      <td>2021-10-27 00:00:00</td>\n",
       "      <td>...</td>\n",
       "      <td>2.0</td>\n",
       "      <td>13000.0</td>\n",
       "      <td>0.0</td>\n",
       "      <td>0.0</td>\n",
       "      <td>0.0</td>\n",
       "      <td>0.0</td>\n",
       "      <td>0.000000</td>\n",
       "      <td>0.015385</td>\n",
       "      <td>0.0000</td>\n",
       "      <td>0.0</td>\n",
       "    </tr>\n",
       "    <tr>\n",
       "      <th>401237</th>\n",
       "      <td>401237</td>\n",
       "      <td>4401986</td>\n",
       "      <td>2021-10-22 00:55:26</td>\n",
       "      <td>Female</td>\n",
       "      <td>49</td>\n",
       "      <td>IRT</td>\n",
       "      <td>&gt; Rp 100 Juta - 500 Juta</td>\n",
       "      <td>used referral</td>\n",
       "      <td>Keuntungan Bisnis</td>\n",
       "      <td>2021-10-28 00:00:00</td>\n",
       "      <td>...</td>\n",
       "      <td>3.0</td>\n",
       "      <td>0.0</td>\n",
       "      <td>0.0</td>\n",
       "      <td>0.0</td>\n",
       "      <td>0.0</td>\n",
       "      <td>0.0</td>\n",
       "      <td>0.000000</td>\n",
       "      <td>0.023077</td>\n",
       "      <td>0.0000</td>\n",
       "      <td>0.0</td>\n",
       "    </tr>\n",
       "    <tr>\n",
       "      <th>401238</th>\n",
       "      <td>401238</td>\n",
       "      <td>4401986</td>\n",
       "      <td>2021-10-22 00:55:26</td>\n",
       "      <td>Female</td>\n",
       "      <td>49</td>\n",
       "      <td>IRT</td>\n",
       "      <td>&gt; Rp 100 Juta - 500 Juta</td>\n",
       "      <td>used referral</td>\n",
       "      <td>Keuntungan Bisnis</td>\n",
       "      <td>2021-10-29 00:00:00</td>\n",
       "      <td>...</td>\n",
       "      <td>3.0</td>\n",
       "      <td>0.0</td>\n",
       "      <td>0.0</td>\n",
       "      <td>0.0</td>\n",
       "      <td>0.0</td>\n",
       "      <td>0.0</td>\n",
       "      <td>0.000000</td>\n",
       "      <td>0.023077</td>\n",
       "      <td>0.0000</td>\n",
       "      <td>0.0</td>\n",
       "    </tr>\n",
       "  </tbody>\n",
       "</table>\n",
       "<p>401239 rows × 30 columns</p>\n",
       "</div>"
      ],
      "text/plain": [
       "        Unnamed: 0  user_id registration_import_datetime user_gender  \\\n",
       "0                0   162882          2021-09-17 14:10:44      Female   \n",
       "1                1   162882          2021-09-17 14:10:44      Female   \n",
       "2                2   162882          2021-09-17 14:10:44      Female   \n",
       "3                3   162882          2021-09-17 14:10:44      Female   \n",
       "4                4   162882          2021-09-17 14:10:44      Female   \n",
       "...            ...      ...                          ...         ...   \n",
       "401234      401234  4396739          2021-10-21 13:42:20        Male   \n",
       "401235      401235  4396739          2021-10-21 13:42:20        Male   \n",
       "401236      401236  4401986          2021-10-22 00:55:26      Female   \n",
       "401237      401237  4401986          2021-10-22 00:55:26      Female   \n",
       "401238      401238  4401986          2021-10-22 00:55:26      Female   \n",
       "\n",
       "        user_age user_occupation         user_income_range  \\\n",
       "0             51          Swasta  > Rp 500 Juta - 1 Miliar   \n",
       "1             51          Swasta  > Rp 500 Juta - 1 Miliar   \n",
       "2             51          Swasta  > Rp 500 Juta - 1 Miliar   \n",
       "3             51          Swasta  > Rp 500 Juta - 1 Miliar   \n",
       "4             51          Swasta  > Rp 500 Juta - 1 Miliar   \n",
       "...          ...             ...                       ...   \n",
       "401234        49          Swasta  > Rp 100 Juta - 500 Juta   \n",
       "401235        49          Swasta  > Rp 100 Juta - 500 Juta   \n",
       "401236        49             IRT  > Rp 100 Juta - 500 Juta   \n",
       "401237        49             IRT  > Rp 100 Juta - 500 Juta   \n",
       "401238        49             IRT  > Rp 100 Juta - 500 Juta   \n",
       "\n",
       "         referral_code_used user_income_source                 date  ...  \\\n",
       "0       don't use referrals               Gaji  2021-10-08 00:00:00  ...   \n",
       "1       don't use referrals               Gaji  2021-10-11 00:00:00  ...   \n",
       "2       don't use referrals               Gaji  2021-10-12 00:00:00  ...   \n",
       "3       don't use referrals               Gaji  2021-10-13 00:00:00  ...   \n",
       "4       don't use referrals               Gaji  2021-10-14 00:00:00  ...   \n",
       "...                     ...                ...                  ...  ...   \n",
       "401234  don't use referrals               Gaji  2021-10-28 00:00:00  ...   \n",
       "401235  don't use referrals               Gaji  2021-10-29 00:00:00  ...   \n",
       "401236        used referral  Keuntungan Bisnis  2021-10-27 00:00:00  ...   \n",
       "401237        used referral  Keuntungan Bisnis  2021-10-28 00:00:00  ...   \n",
       "401238        used referral  Keuntungan Bisnis  2021-10-29 00:00:00  ...   \n",
       "\n",
       "        profit/loss_Pasar_Uang  buy/sell_Pasar_Uang  \\\n",
       "0                          0.0                  0.0   \n",
       "1                          0.0                  0.0   \n",
       "2                          0.0                  0.0   \n",
       "3                          0.0                  0.0   \n",
       "4                          0.0                  0.0   \n",
       "...                        ...                  ...   \n",
       "401234                     7.0                  0.0   \n",
       "401235                     7.0                  0.0   \n",
       "401236                     2.0              13000.0   \n",
       "401237                     3.0                  0.0   \n",
       "401238                     3.0                  0.0   \n",
       "\n",
       "        profit/loss_Pendapatan_Tetap  buy/sell_Pendapatan_Tetap  \\\n",
       "0                                0.0                        0.0   \n",
       "1                              299.0                   500000.0   \n",
       "2                              299.0                        0.0   \n",
       "3                              542.0                        0.0   \n",
       "4                             2093.0                   500000.0   \n",
       "...                              ...                        ...   \n",
       "401234                          61.0                        0.0   \n",
       "401235                          38.0                        0.0   \n",
       "401236                           0.0                        0.0   \n",
       "401237                           0.0                        0.0   \n",
       "401238                           0.0                        0.0   \n",
       "\n",
       "        profit/loss_Campuran  buy/sell_Campuran  profit/invested_Saham  \\\n",
       "0                        0.0                0.0               0.778300   \n",
       "1                        0.0                0.0               0.722600   \n",
       "2                        0.0                0.0               1.260600   \n",
       "3                        0.0                0.0               1.400800   \n",
       "4                        0.0                0.0               2.212333   \n",
       "...                      ...                ...                    ...   \n",
       "401234                   0.0                0.0              -1.484000   \n",
       "401235                   0.0                0.0              -0.556000   \n",
       "401236                   0.0                0.0               0.000000   \n",
       "401237                   0.0                0.0               0.000000   \n",
       "401238                   0.0                0.0               0.000000   \n",
       "\n",
       "        profit/invested_Pasar_Uang  profit/invested_Pendepatan_Tetap  \\\n",
       "0                         0.000000                            0.0000   \n",
       "1                         0.000000                            0.0598   \n",
       "2                         0.000000                            0.0598   \n",
       "3                         0.000000                            0.1084   \n",
       "4                         0.000000                            0.2093   \n",
       "...                            ...                               ...   \n",
       "401234                    0.070000                            0.1525   \n",
       "401235                    0.070000                            0.0950   \n",
       "401236                    0.015385                            0.0000   \n",
       "401237                    0.023077                            0.0000   \n",
       "401238                    0.023077                            0.0000   \n",
       "\n",
       "        profit/invested_Campuran  \n",
       "0                            0.0  \n",
       "1                            0.0  \n",
       "2                            0.0  \n",
       "3                            0.0  \n",
       "4                            0.0  \n",
       "...                          ...  \n",
       "401234                       0.0  \n",
       "401235                       0.0  \n",
       "401236                       0.0  \n",
       "401237                       0.0  \n",
       "401238                       0.0  \n",
       "\n",
       "[401239 rows x 30 columns]"
      ]
     },
     "execution_count": 5,
     "metadata": {},
     "output_type": "execute_result"
    }
   ],
   "source": [
    "df3"
   ]
  },
  {
   "cell_type": "code",
   "execution_count": 6,
   "id": "de4efe12",
   "metadata": {},
   "outputs": [
    {
     "data": {
      "text/html": [
       "<div>\n",
       "<style scoped>\n",
       "    .dataframe tbody tr th:only-of-type {\n",
       "        vertical-align: middle;\n",
       "    }\n",
       "\n",
       "    .dataframe tbody tr th {\n",
       "        vertical-align: top;\n",
       "    }\n",
       "\n",
       "    .dataframe thead th {\n",
       "        text-align: right;\n",
       "    }\n",
       "</style>\n",
       "<table border=\"1\" class=\"dataframe\">\n",
       "  <thead>\n",
       "    <tr style=\"text-align: right;\">\n",
       "      <th></th>\n",
       "      <th>user_id</th>\n",
       "      <th>registration_import_datetime</th>\n",
       "      <th>user_gender</th>\n",
       "      <th>user_age</th>\n",
       "      <th>user_occupation</th>\n",
       "      <th>user_income_range</th>\n",
       "      <th>referral_code_used</th>\n",
       "      <th>user_income_source</th>\n",
       "      <th>date</th>\n",
       "      <th>Saham_AUM</th>\n",
       "      <th>...</th>\n",
       "      <th>profit/loss_Pasar_Uang</th>\n",
       "      <th>buy/sell_Pasar_Uang</th>\n",
       "      <th>profit/loss_Pendapatan_Tetap</th>\n",
       "      <th>buy/sell_Pendapatan_Tetap</th>\n",
       "      <th>profit/loss_Campuran</th>\n",
       "      <th>buy/sell_Campuran</th>\n",
       "      <th>profit/invested_Saham</th>\n",
       "      <th>profit/invested_Pasar_Uang</th>\n",
       "      <th>profit/invested_Pendepatan_Tetap</th>\n",
       "      <th>profit/invested_Campuran</th>\n",
       "    </tr>\n",
       "  </thead>\n",
       "  <tbody>\n",
       "    <tr>\n",
       "      <th>0</th>\n",
       "      <td>162882</td>\n",
       "      <td>2021-09-17 14:10:44</td>\n",
       "      <td>Female</td>\n",
       "      <td>51</td>\n",
       "      <td>Swasta</td>\n",
       "      <td>&gt; Rp 500 Juta - 1 Miliar</td>\n",
       "      <td>don't use referrals</td>\n",
       "      <td>Gaji</td>\n",
       "      <td>2021-10-08 00:00:00</td>\n",
       "      <td>1007783.0</td>\n",
       "      <td>...</td>\n",
       "      <td>0.0</td>\n",
       "      <td>0.0</td>\n",
       "      <td>0.0</td>\n",
       "      <td>0.0</td>\n",
       "      <td>0.0</td>\n",
       "      <td>0.0</td>\n",
       "      <td>0.778300</td>\n",
       "      <td>0.000000</td>\n",
       "      <td>0.0000</td>\n",
       "      <td>0.0</td>\n",
       "    </tr>\n",
       "    <tr>\n",
       "      <th>1</th>\n",
       "      <td>162882</td>\n",
       "      <td>2021-09-17 14:10:44</td>\n",
       "      <td>Female</td>\n",
       "      <td>51</td>\n",
       "      <td>Swasta</td>\n",
       "      <td>&gt; Rp 500 Juta - 1 Miliar</td>\n",
       "      <td>don't use referrals</td>\n",
       "      <td>Gaji</td>\n",
       "      <td>2021-10-11 00:00:00</td>\n",
       "      <td>1007226.0</td>\n",
       "      <td>...</td>\n",
       "      <td>0.0</td>\n",
       "      <td>0.0</td>\n",
       "      <td>299.0</td>\n",
       "      <td>500000.0</td>\n",
       "      <td>0.0</td>\n",
       "      <td>0.0</td>\n",
       "      <td>0.722600</td>\n",
       "      <td>0.000000</td>\n",
       "      <td>0.0598</td>\n",
       "      <td>0.0</td>\n",
       "    </tr>\n",
       "    <tr>\n",
       "      <th>2</th>\n",
       "      <td>162882</td>\n",
       "      <td>2021-09-17 14:10:44</td>\n",
       "      <td>Female</td>\n",
       "      <td>51</td>\n",
       "      <td>Swasta</td>\n",
       "      <td>&gt; Rp 500 Juta - 1 Miliar</td>\n",
       "      <td>don't use referrals</td>\n",
       "      <td>Gaji</td>\n",
       "      <td>2021-10-12 00:00:00</td>\n",
       "      <td>1012606.0</td>\n",
       "      <td>...</td>\n",
       "      <td>0.0</td>\n",
       "      <td>0.0</td>\n",
       "      <td>299.0</td>\n",
       "      <td>0.0</td>\n",
       "      <td>0.0</td>\n",
       "      <td>0.0</td>\n",
       "      <td>1.260600</td>\n",
       "      <td>0.000000</td>\n",
       "      <td>0.0598</td>\n",
       "      <td>0.0</td>\n",
       "    </tr>\n",
       "    <tr>\n",
       "      <th>3</th>\n",
       "      <td>162882</td>\n",
       "      <td>2021-09-17 14:10:44</td>\n",
       "      <td>Female</td>\n",
       "      <td>51</td>\n",
       "      <td>Swasta</td>\n",
       "      <td>&gt; Rp 500 Juta - 1 Miliar</td>\n",
       "      <td>don't use referrals</td>\n",
       "      <td>Gaji</td>\n",
       "      <td>2021-10-13 00:00:00</td>\n",
       "      <td>1521012.0</td>\n",
       "      <td>...</td>\n",
       "      <td>0.0</td>\n",
       "      <td>0.0</td>\n",
       "      <td>542.0</td>\n",
       "      <td>0.0</td>\n",
       "      <td>0.0</td>\n",
       "      <td>0.0</td>\n",
       "      <td>1.400800</td>\n",
       "      <td>0.000000</td>\n",
       "      <td>0.1084</td>\n",
       "      <td>0.0</td>\n",
       "    </tr>\n",
       "    <tr>\n",
       "      <th>4</th>\n",
       "      <td>162882</td>\n",
       "      <td>2021-09-17 14:10:44</td>\n",
       "      <td>Female</td>\n",
       "      <td>51</td>\n",
       "      <td>Swasta</td>\n",
       "      <td>&gt; Rp 500 Juta - 1 Miliar</td>\n",
       "      <td>don't use referrals</td>\n",
       "      <td>Gaji</td>\n",
       "      <td>2021-10-14 00:00:00</td>\n",
       "      <td>1533185.0</td>\n",
       "      <td>...</td>\n",
       "      <td>0.0</td>\n",
       "      <td>0.0</td>\n",
       "      <td>2093.0</td>\n",
       "      <td>500000.0</td>\n",
       "      <td>0.0</td>\n",
       "      <td>0.0</td>\n",
       "      <td>2.212333</td>\n",
       "      <td>0.000000</td>\n",
       "      <td>0.2093</td>\n",
       "      <td>0.0</td>\n",
       "    </tr>\n",
       "    <tr>\n",
       "      <th>...</th>\n",
       "      <td>...</td>\n",
       "      <td>...</td>\n",
       "      <td>...</td>\n",
       "      <td>...</td>\n",
       "      <td>...</td>\n",
       "      <td>...</td>\n",
       "      <td>...</td>\n",
       "      <td>...</td>\n",
       "      <td>...</td>\n",
       "      <td>...</td>\n",
       "      <td>...</td>\n",
       "      <td>...</td>\n",
       "      <td>...</td>\n",
       "      <td>...</td>\n",
       "      <td>...</td>\n",
       "      <td>...</td>\n",
       "      <td>...</td>\n",
       "      <td>...</td>\n",
       "      <td>...</td>\n",
       "      <td>...</td>\n",
       "      <td>...</td>\n",
       "    </tr>\n",
       "    <tr>\n",
       "      <th>401234</th>\n",
       "      <td>4396739</td>\n",
       "      <td>2021-10-21 13:42:20</td>\n",
       "      <td>Male</td>\n",
       "      <td>49</td>\n",
       "      <td>Swasta</td>\n",
       "      <td>&gt; Rp 100 Juta - 500 Juta</td>\n",
       "      <td>don't use referrals</td>\n",
       "      <td>Gaji</td>\n",
       "      <td>2021-10-28 00:00:00</td>\n",
       "      <td>49258.0</td>\n",
       "      <td>...</td>\n",
       "      <td>7.0</td>\n",
       "      <td>0.0</td>\n",
       "      <td>61.0</td>\n",
       "      <td>0.0</td>\n",
       "      <td>0.0</td>\n",
       "      <td>0.0</td>\n",
       "      <td>-1.484000</td>\n",
       "      <td>0.070000</td>\n",
       "      <td>0.1525</td>\n",
       "      <td>0.0</td>\n",
       "    </tr>\n",
       "    <tr>\n",
       "      <th>401235</th>\n",
       "      <td>4396739</td>\n",
       "      <td>2021-10-21 13:42:20</td>\n",
       "      <td>Male</td>\n",
       "      <td>49</td>\n",
       "      <td>Swasta</td>\n",
       "      <td>&gt; Rp 100 Juta - 500 Juta</td>\n",
       "      <td>don't use referrals</td>\n",
       "      <td>Gaji</td>\n",
       "      <td>2021-10-29 00:00:00</td>\n",
       "      <td>49722.0</td>\n",
       "      <td>...</td>\n",
       "      <td>7.0</td>\n",
       "      <td>0.0</td>\n",
       "      <td>38.0</td>\n",
       "      <td>0.0</td>\n",
       "      <td>0.0</td>\n",
       "      <td>0.0</td>\n",
       "      <td>-0.556000</td>\n",
       "      <td>0.070000</td>\n",
       "      <td>0.0950</td>\n",
       "      <td>0.0</td>\n",
       "    </tr>\n",
       "    <tr>\n",
       "      <th>401236</th>\n",
       "      <td>4401986</td>\n",
       "      <td>2021-10-22 00:55:26</td>\n",
       "      <td>Female</td>\n",
       "      <td>49</td>\n",
       "      <td>IRT</td>\n",
       "      <td>&gt; Rp 100 Juta - 500 Juta</td>\n",
       "      <td>used referral</td>\n",
       "      <td>Keuntungan Bisnis</td>\n",
       "      <td>2021-10-27 00:00:00</td>\n",
       "      <td>0.0</td>\n",
       "      <td>...</td>\n",
       "      <td>2.0</td>\n",
       "      <td>13000.0</td>\n",
       "      <td>0.0</td>\n",
       "      <td>0.0</td>\n",
       "      <td>0.0</td>\n",
       "      <td>0.0</td>\n",
       "      <td>0.000000</td>\n",
       "      <td>0.015385</td>\n",
       "      <td>0.0000</td>\n",
       "      <td>0.0</td>\n",
       "    </tr>\n",
       "    <tr>\n",
       "      <th>401237</th>\n",
       "      <td>4401986</td>\n",
       "      <td>2021-10-22 00:55:26</td>\n",
       "      <td>Female</td>\n",
       "      <td>49</td>\n",
       "      <td>IRT</td>\n",
       "      <td>&gt; Rp 100 Juta - 500 Juta</td>\n",
       "      <td>used referral</td>\n",
       "      <td>Keuntungan Bisnis</td>\n",
       "      <td>2021-10-28 00:00:00</td>\n",
       "      <td>0.0</td>\n",
       "      <td>...</td>\n",
       "      <td>3.0</td>\n",
       "      <td>0.0</td>\n",
       "      <td>0.0</td>\n",
       "      <td>0.0</td>\n",
       "      <td>0.0</td>\n",
       "      <td>0.0</td>\n",
       "      <td>0.000000</td>\n",
       "      <td>0.023077</td>\n",
       "      <td>0.0000</td>\n",
       "      <td>0.0</td>\n",
       "    </tr>\n",
       "    <tr>\n",
       "      <th>401238</th>\n",
       "      <td>4401986</td>\n",
       "      <td>2021-10-22 00:55:26</td>\n",
       "      <td>Female</td>\n",
       "      <td>49</td>\n",
       "      <td>IRT</td>\n",
       "      <td>&gt; Rp 100 Juta - 500 Juta</td>\n",
       "      <td>used referral</td>\n",
       "      <td>Keuntungan Bisnis</td>\n",
       "      <td>2021-10-29 00:00:00</td>\n",
       "      <td>0.0</td>\n",
       "      <td>...</td>\n",
       "      <td>3.0</td>\n",
       "      <td>0.0</td>\n",
       "      <td>0.0</td>\n",
       "      <td>0.0</td>\n",
       "      <td>0.0</td>\n",
       "      <td>0.0</td>\n",
       "      <td>0.000000</td>\n",
       "      <td>0.023077</td>\n",
       "      <td>0.0000</td>\n",
       "      <td>0.0</td>\n",
       "    </tr>\n",
       "  </tbody>\n",
       "</table>\n",
       "<p>401239 rows × 29 columns</p>\n",
       "</div>"
      ],
      "text/plain": [
       "        user_id registration_import_datetime user_gender  user_age  \\\n",
       "0        162882          2021-09-17 14:10:44      Female        51   \n",
       "1        162882          2021-09-17 14:10:44      Female        51   \n",
       "2        162882          2021-09-17 14:10:44      Female        51   \n",
       "3        162882          2021-09-17 14:10:44      Female        51   \n",
       "4        162882          2021-09-17 14:10:44      Female        51   \n",
       "...         ...                          ...         ...       ...   \n",
       "401234  4396739          2021-10-21 13:42:20        Male        49   \n",
       "401235  4396739          2021-10-21 13:42:20        Male        49   \n",
       "401236  4401986          2021-10-22 00:55:26      Female        49   \n",
       "401237  4401986          2021-10-22 00:55:26      Female        49   \n",
       "401238  4401986          2021-10-22 00:55:26      Female        49   \n",
       "\n",
       "       user_occupation         user_income_range   referral_code_used  \\\n",
       "0               Swasta  > Rp 500 Juta - 1 Miliar  don't use referrals   \n",
       "1               Swasta  > Rp 500 Juta - 1 Miliar  don't use referrals   \n",
       "2               Swasta  > Rp 500 Juta - 1 Miliar  don't use referrals   \n",
       "3               Swasta  > Rp 500 Juta - 1 Miliar  don't use referrals   \n",
       "4               Swasta  > Rp 500 Juta - 1 Miliar  don't use referrals   \n",
       "...                ...                       ...                  ...   \n",
       "401234          Swasta  > Rp 100 Juta - 500 Juta  don't use referrals   \n",
       "401235          Swasta  > Rp 100 Juta - 500 Juta  don't use referrals   \n",
       "401236             IRT  > Rp 100 Juta - 500 Juta        used referral   \n",
       "401237             IRT  > Rp 100 Juta - 500 Juta        used referral   \n",
       "401238             IRT  > Rp 100 Juta - 500 Juta        used referral   \n",
       "\n",
       "       user_income_source                 date  Saham_AUM  ...  \\\n",
       "0                    Gaji  2021-10-08 00:00:00  1007783.0  ...   \n",
       "1                    Gaji  2021-10-11 00:00:00  1007226.0  ...   \n",
       "2                    Gaji  2021-10-12 00:00:00  1012606.0  ...   \n",
       "3                    Gaji  2021-10-13 00:00:00  1521012.0  ...   \n",
       "4                    Gaji  2021-10-14 00:00:00  1533185.0  ...   \n",
       "...                   ...                  ...        ...  ...   \n",
       "401234               Gaji  2021-10-28 00:00:00    49258.0  ...   \n",
       "401235               Gaji  2021-10-29 00:00:00    49722.0  ...   \n",
       "401236  Keuntungan Bisnis  2021-10-27 00:00:00        0.0  ...   \n",
       "401237  Keuntungan Bisnis  2021-10-28 00:00:00        0.0  ...   \n",
       "401238  Keuntungan Bisnis  2021-10-29 00:00:00        0.0  ...   \n",
       "\n",
       "        profit/loss_Pasar_Uang  buy/sell_Pasar_Uang  \\\n",
       "0                          0.0                  0.0   \n",
       "1                          0.0                  0.0   \n",
       "2                          0.0                  0.0   \n",
       "3                          0.0                  0.0   \n",
       "4                          0.0                  0.0   \n",
       "...                        ...                  ...   \n",
       "401234                     7.0                  0.0   \n",
       "401235                     7.0                  0.0   \n",
       "401236                     2.0              13000.0   \n",
       "401237                     3.0                  0.0   \n",
       "401238                     3.0                  0.0   \n",
       "\n",
       "        profit/loss_Pendapatan_Tetap  buy/sell_Pendapatan_Tetap  \\\n",
       "0                                0.0                        0.0   \n",
       "1                              299.0                   500000.0   \n",
       "2                              299.0                        0.0   \n",
       "3                              542.0                        0.0   \n",
       "4                             2093.0                   500000.0   \n",
       "...                              ...                        ...   \n",
       "401234                          61.0                        0.0   \n",
       "401235                          38.0                        0.0   \n",
       "401236                           0.0                        0.0   \n",
       "401237                           0.0                        0.0   \n",
       "401238                           0.0                        0.0   \n",
       "\n",
       "        profit/loss_Campuran  buy/sell_Campuran  profit/invested_Saham  \\\n",
       "0                        0.0                0.0               0.778300   \n",
       "1                        0.0                0.0               0.722600   \n",
       "2                        0.0                0.0               1.260600   \n",
       "3                        0.0                0.0               1.400800   \n",
       "4                        0.0                0.0               2.212333   \n",
       "...                      ...                ...                    ...   \n",
       "401234                   0.0                0.0              -1.484000   \n",
       "401235                   0.0                0.0              -0.556000   \n",
       "401236                   0.0                0.0               0.000000   \n",
       "401237                   0.0                0.0               0.000000   \n",
       "401238                   0.0                0.0               0.000000   \n",
       "\n",
       "        profit/invested_Pasar_Uang  profit/invested_Pendepatan_Tetap  \\\n",
       "0                         0.000000                            0.0000   \n",
       "1                         0.000000                            0.0598   \n",
       "2                         0.000000                            0.0598   \n",
       "3                         0.000000                            0.1084   \n",
       "4                         0.000000                            0.2093   \n",
       "...                            ...                               ...   \n",
       "401234                    0.070000                            0.1525   \n",
       "401235                    0.070000                            0.0950   \n",
       "401236                    0.015385                            0.0000   \n",
       "401237                    0.023077                            0.0000   \n",
       "401238                    0.023077                            0.0000   \n",
       "\n",
       "        profit/invested_Campuran  \n",
       "0                            0.0  \n",
       "1                            0.0  \n",
       "2                            0.0  \n",
       "3                            0.0  \n",
       "4                            0.0  \n",
       "...                          ...  \n",
       "401234                       0.0  \n",
       "401235                       0.0  \n",
       "401236                       0.0  \n",
       "401237                       0.0  \n",
       "401238                       0.0  \n",
       "\n",
       "[401239 rows x 29 columns]"
      ]
     },
     "execution_count": 6,
     "metadata": {},
     "output_type": "execute_result"
    }
   ],
   "source": [
    "df3.drop(['Unnamed: 0'], axis = 1, inplace = True)\n",
    "df3"
   ]
  },
  {
   "cell_type": "code",
   "execution_count": 14,
   "id": "12c4a356",
   "metadata": {},
   "outputs": [],
   "source": [
    "df3_saham_buying = df3[df3['buy/sell_Saham'] > 0]"
   ]
  },
  {
   "cell_type": "code",
   "execution_count": 20,
   "id": "67cef12d",
   "metadata": {},
   "outputs": [
    {
     "data": {
      "text/plain": [
       "0         0.778300\n",
       "3         1.400800\n",
       "7         1.633000\n",
       "16        1.904450\n",
       "29       -0.758000\n",
       "            ...   \n",
       "401194    1.780909\n",
       "401203   -0.092000\n",
       "401220    2.722429\n",
       "401224    1.413813\n",
       "401232   -0.190000\n",
       "Name: profit/invested_Saham, Length: 19202, dtype: float64"
      ]
     },
     "execution_count": 20,
     "metadata": {},
     "output_type": "execute_result"
    }
   ],
   "source": [
    "df3_saham_buying['profit/invested_Saham']"
   ]
  },
  {
   "cell_type": "code",
   "execution_count": 24,
   "id": "8b7350d1",
   "metadata": {
    "scrolled": true
   },
   "outputs": [
    {
     "data": {
      "text/plain": [
       "<matplotlib.lines.Line2D at 0x7fdbf69460d0>"
      ]
     },
     "execution_count": 24,
     "metadata": {},
     "output_type": "execute_result"
    },
    {
     "data": {
      "image/png": "[encoded data removed]",
      "text/plain": [
       "<Figure size 1080x576 with 1 Axes>"
      ]
     },
     "metadata": {
      "needs_background": "light"
     },
     "output_type": "display_data"
    }
   ],
   "source": [
    "plt.figure(figsize = (15,8))\n",
    "g = sns.histplot(df3_saham_buying['profit/invested_Saham'] * 100)\n",
    "g.axvline(c='r')"
   ]
  },
  {
   "cell_type": "code",
   "execution_count": 25,
   "id": "7db46cf3",
   "metadata": {},
   "outputs": [],
   "source": [
    "df3_saham_selling = df3[df3['buy/sell_Saham'] < 0]"
   ]
  },
  {
   "cell_type": "code",
   "execution_count": 26,
   "id": "a81ddb76",
   "metadata": {},
   "outputs": [
    {
     "data": {
      "text/plain": [
       "222       0.000000\n",
       "511       0.000000\n",
       "788       4.891496\n",
       "791       5.315466\n",
       "909       0.000000\n",
       "            ...   \n",
       "401021    3.676364\n",
       "401043    0.000000\n",
       "401109    0.816722\n",
       "401124    0.000000\n",
       "401202   -0.553158\n",
       "Name: profit/invested_Saham, Length: 3770, dtype: float64"
      ]
     },
     "execution_count": 26,
     "metadata": {},
     "output_type": "execute_result"
    }
   ],
   "source": [
    "df3_saham_selling['profit/invested_Saham']"
   ]
  },
  {
   "cell_type": "code",
   "execution_count": 27,
   "id": "8d73cece",
   "metadata": {
    "scrolled": true
   },
   "outputs": [
    {
     "data": {
      "text/plain": [
       "<matplotlib.lines.Line2D at 0x7fdbf6eae5b0>"
      ]
     },
     "execution_count": 27,
     "metadata": {},
     "output_type": "execute_result"
    },
    {
     "data": {
      "image/png": "[encoded data removed]",
      "text/plain": [
       "<Figure size 1080x576 with 1 Axes>"
      ]
     },
     "metadata": {
      "needs_background": "light"
     },
     "output_type": "display_data"
    }
   ],
   "source": [
    "plt.figure(figsize = (15,8))\n",
    "g = sns.histplot(df3_saham_selling['profit/invested_Saham'] * 100)\n",
    "g.axvline(c='r')"
   ]
  },
  {
   "cell_type": "markdown",
   "id": "ebeaafba",
   "metadata": {},
   "source": [
    "pasar uang"
   ]
  },
  {
   "cell_type": "code",
   "execution_count": 28,
   "id": "aa1bb6fa",
   "metadata": {},
   "outputs": [],
   "source": [
    "df3_pasar_buying = df3[df3['buy/sell_Pasar_Uang'] > 0]"
   ]
  },
  {
   "cell_type": "code",
   "execution_count": 29,
   "id": "933cb694",
   "metadata": {},
   "outputs": [
    {
     "data": {
      "text/plain": [
       "8         0.011800\n",
       "17        0.038830\n",
       "29        0.050000\n",
       "34        0.030000\n",
       "88        0.039800\n",
       "            ...   \n",
       "401211    0.049500\n",
       "401220    0.029000\n",
       "401224    0.054762\n",
       "401232    0.040000\n",
       "401236    0.015385\n",
       "Name: profit/invested_Pasar_Uang, Length: 21552, dtype: float64"
      ]
     },
     "execution_count": 29,
     "metadata": {},
     "output_type": "execute_result"
    }
   ],
   "source": [
    "df3_pasar_buying['profit/invested_Pasar_Uang']"
   ]
  },
  {
   "cell_type": "code",
   "execution_count": 30,
   "id": "fc97774f",
   "metadata": {
    "scrolled": false
   },
   "outputs": [
    {
     "data": {
      "text/plain": [
       "<matplotlib.lines.Line2D at 0x7fdbf691f160>"
      ]
     },
     "execution_count": 30,
     "metadata": {},
     "output_type": "execute_result"
    },
    {
     "data": {
      "image/png": "[encoded data removed]",
      "text/plain": [
       "<Figure size 1080x576 with 1 Axes>"
      ]
     },
     "metadata": {
      "needs_background": "light"
     },
     "output_type": "display_data"
    }
   ],
   "source": [
    "plt.figure(figsize = (15,8))\n",
    "g = sns.histplot(df3_pasar_buying['profit/invested_Pasar_Uang'] * 100)\n",
    "g.axvline(c='r')"
   ]
  },
  {
   "cell_type": "code",
   "execution_count": 31,
   "id": "cb1b9aa6",
   "metadata": {},
   "outputs": [],
   "source": [
    "df3_pasar_selling = df3[df3['buy/sell_Pasar_Uang'] < 0]"
   ]
  },
  {
   "cell_type": "code",
   "execution_count": 32,
   "id": "9fd94900",
   "metadata": {},
   "outputs": [
    {
     "data": {
      "text/plain": [
       "197       0.000000\n",
       "222       0.000000\n",
       "511       0.000000\n",
       "565       0.000000\n",
       "675       0.000000\n",
       "            ...   \n",
       "400376    0.054301\n",
       "400381    0.083715\n",
       "400889    0.000000\n",
       "400927    0.000000\n",
       "401043    0.000000\n",
       "Name: profit/invested_Pasar_Uang, Length: 4379, dtype: float64"
      ]
     },
     "execution_count": 32,
     "metadata": {},
     "output_type": "execute_result"
    }
   ],
   "source": [
    "df3_pasar_selling['profit/invested_Pasar_Uang']"
   ]
  },
  {
   "cell_type": "code",
   "execution_count": 33,
   "id": "0eea4a30",
   "metadata": {
    "scrolled": true
   },
   "outputs": [
    {
     "data": {
      "text/plain": [
       "<matplotlib.lines.Line2D at 0x7fdbf7919dc0>"
      ]
     },
     "execution_count": 33,
     "metadata": {},
     "output_type": "execute_result"
    },
    {
     "data": {
      "image/png": "[encoded data removed]",
      "text/plain": [
       "<Figure size 1080x576 with 1 Axes>"
      ]
     },
     "metadata": {
      "needs_background": "light"
     },
     "output_type": "display_data"
    }
   ],
   "source": [
    "plt.figure(figsize = (15,8))\n",
    "g = sns.histplot(df3_saham_selling['profit/invested_Pasar_Uang'] * 100)\n",
    "g.axvline(c='r')"
   ]
  },
  {
   "cell_type": "markdown",
   "id": "9914c388",
   "metadata": {},
   "source": [
    "pendapatan tetap"
   ]
  },
  {
   "cell_type": "code",
   "execution_count": 34,
   "id": "b90edf15",
   "metadata": {},
   "outputs": [],
   "source": [
    "df3_pendapatan_buying = df3[df3['buy/sell_Pendapatan_Tetap'] > 0]"
   ]
  },
  {
   "cell_type": "code",
   "execution_count": 36,
   "id": "b53ab41e",
   "metadata": {},
   "outputs": [
    {
     "data": {
      "text/plain": [
       "1         0.059800\n",
       "4         0.209300\n",
       "16        0.052026\n",
       "29        0.010000\n",
       "34        0.031111\n",
       "            ...   \n",
       "401203   -0.010000\n",
       "401215    0.161100\n",
       "401220    0.065500\n",
       "401224    0.077500\n",
       "401232    0.185000\n",
       "Name: profit/invested_Pendepatan_Tetap, Length: 18533, dtype: float64"
      ]
     },
     "execution_count": 36,
     "metadata": {},
     "output_type": "execute_result"
    }
   ],
   "source": [
    "df3_pendapatan_buying['profit/invested_Pendepatan_Tetap']"
   ]
  },
  {
   "cell_type": "code",
   "execution_count": 43,
   "id": "53521da1",
   "metadata": {
    "scrolled": false
   },
   "outputs": [
    {
     "data": {
      "text/plain": [
       "<matplotlib.lines.Line2D at 0x7fdbf8e04d60>"
      ]
     },
     "execution_count": 43,
     "metadata": {},
     "output_type": "execute_result"
    },
    {
     "data": {
      "image/png": "[encoded data removed]",
      "text/plain": [
       "<Figure size 1080x576 with 1 Axes>"
      ]
     },
     "metadata": {
      "needs_background": "light"
     },
     "output_type": "display_data"
    }
   ],
   "source": [
    "plt.figure(figsize = (15,8))\n",
    "g = sns.histplot(df3_pendapatan_buying['profit/invested_Pendepatan_Tetap'] * 100)\n",
    "g.axvline(c='r')"
   ]
  },
  {
   "cell_type": "code",
   "execution_count": 38,
   "id": "915dd25b",
   "metadata": {},
   "outputs": [],
   "source": [
    "df3_pendapatan_selling = df3[df3['buy/sell_Pendapatan_Tetap'] < 0]"
   ]
  },
  {
   "cell_type": "code",
   "execution_count": 40,
   "id": "e8b0a26e",
   "metadata": {},
   "outputs": [
    {
     "data": {
      "text/plain": [
       "222      -2.529181\n",
       "511       0.000000\n",
       "518      -0.194125\n",
       "540       0.000000\n",
       "908       0.000189\n",
       "            ...   \n",
       "400889    0.742773\n",
       "400890    0.000000\n",
       "400927    0.000000\n",
       "401043    0.000000\n",
       "401117    0.615133\n",
       "Name: profit/invested_Pendepatan_Tetap, Length: 3432, dtype: float64"
      ]
     },
     "execution_count": 40,
     "metadata": {},
     "output_type": "execute_result"
    }
   ],
   "source": [
    "df3_pendapatan_selling['profit/invested_Pendepatan_Tetap']"
   ]
  },
  {
   "cell_type": "code",
   "execution_count": 42,
   "id": "3475557d",
   "metadata": {
    "scrolled": true
   },
   "outputs": [
    {
     "data": {
      "text/plain": [
       "<matplotlib.lines.Line2D at 0x7fdbf8df3490>"
      ]
     },
     "execution_count": 42,
     "metadata": {},
     "output_type": "execute_result"
    },
    {
     "data": {
      "image/png": "[encoded data removed]",
      "text/plain": [
       "<Figure size 1080x576 with 1 Axes>"
      ]
     },
     "metadata": {
      "needs_background": "light"
     },
     "output_type": "display_data"
    }
   ],
   "source": [
    "plt.figure(figsize = (15,8))\n",
    "g = sns.histplot(df3_pendapatan_selling['profit/invested_Pendepatan_Tetap'] * 100)\n",
    "g.axvline(c='r')"
   ]
  },
  {
   "cell_type": "markdown",
   "id": "72dddfa7",
   "metadata": {},
   "source": [
    "Campuran"
   ]
  },
  {
   "cell_type": "code",
   "execution_count": 44,
   "id": "e7424d9f",
   "metadata": {},
   "outputs": [],
   "source": [
    "df3_campuran_buying = df3[df3['buy/sell_Campuran'] > 0]"
   ]
  },
  {
   "cell_type": "code",
   "execution_count": 45,
   "id": "c6ad7a86",
   "metadata": {},
   "outputs": [
    {
     "data": {
      "text/plain": [
       "140       0.134933\n",
       "146       1.255284\n",
       "149       4.477434\n",
       "150       5.581985\n",
       "153       4.188992\n",
       "            ...   \n",
       "399185   -2.064350\n",
       "399599    1.545000\n",
       "399602   -0.567500\n",
       "400685    0.495628\n",
       "400734   -0.859100\n",
       "Name: profit/invested_Campuran, Length: 576, dtype: float64"
      ]
     },
     "execution_count": 45,
     "metadata": {},
     "output_type": "execute_result"
    }
   ],
   "source": [
    "df3_campuran_buying['profit/invested_Campuran']"
   ]
  },
  {
   "cell_type": "code",
   "execution_count": 46,
   "id": "8f40ffbb",
   "metadata": {
    "scrolled": false
   },
   "outputs": [
    {
     "data": {
      "text/plain": [
       "<matplotlib.lines.Line2D at 0x7fdbf9caefa0>"
      ]
     },
     "execution_count": 46,
     "metadata": {},
     "output_type": "execute_result"
    },
    {
     "data": {
      "image/png": "[encoded data removed]",
      "text/plain": [
       "<Figure size 1080x576 with 1 Axes>"
      ]
     },
     "metadata": {
      "needs_background": "light"
     },
     "output_type": "display_data"
    }
   ],
   "source": [
    "plt.figure(figsize = (15,8))\n",
    "g = sns.histplot(df3_campuran_buying['profit/invested_Campuran'] * 100)\n",
    "g.axvline(c='r')"
   ]
  },
  {
   "cell_type": "code",
   "execution_count": 47,
   "id": "5416334b",
   "metadata": {},
   "outputs": [],
   "source": [
    "df3_campuran_selling = df3[df3['buy/sell_Campuran'] < 0]"
   ]
  },
  {
   "cell_type": "code",
   "execution_count": 48,
   "id": "20584b46",
   "metadata": {},
   "outputs": [
    {
     "data": {
      "text/plain": [
       "9933      0.000000\n",
       "11934     0.000000\n",
       "15827     1.818182\n",
       "19144     0.000000\n",
       "23636     0.000000\n",
       "            ...   \n",
       "387813   -6.430667\n",
       "387828    0.000000\n",
       "389434    0.000000\n",
       "397007    0.000000\n",
       "397013    0.000000\n",
       "Name: profit/invested_Campuran, Length: 90, dtype: float64"
      ]
     },
     "execution_count": 48,
     "metadata": {},
     "output_type": "execute_result"
    }
   ],
   "source": [
    "df3_campuran_selling['profit/invested_Campuran']"
   ]
  },
  {
   "cell_type": "code",
   "execution_count": 49,
   "id": "86b45a10",
   "metadata": {
    "scrolled": true
   },
   "outputs": [
    {
     "data": {
      "text/plain": [
       "<matplotlib.lines.Line2D at 0x7fdbf9f3fe80>"
      ]
     },
     "execution_count": 49,
     "metadata": {},
     "output_type": "execute_result"
    },
    {
     "data": {
      "image/png": "[encoded data removed]",
      "text/plain": [
       "<Figure size 1080x576 with 1 Axes>"
      ]
     },
     "metadata": {
      "needs_background": "light"
     },
     "output_type": "display_data"
    }
   ],
   "source": [
    "plt.figure(figsize = (15,8))\n",
    "g = sns.histplot(df3_campuran_selling['profit/invested_Campuran'] * 100)\n",
    "g.axvline(c='r')"
   ]
  }
 ],
 "metadata": {
  "kernelspec": {
   "display_name": "Python 3 (ipykernel)",
   "language": "python",
   "name": "python3"
  },
  "language_info": {
   "codemirror_mode": {
    "name": "ipython",
    "version": 3
   },
   "file_extension": ".py",
   "mimetype": "text/x-python",
   "name": "python",
   "nbconvert_exporter": "python",
   "pygments_lexer": "ipython3",
   "version": "3.9.7"
  }
 },
 "nbformat": 4,
 "nbformat_minor": 5
}
